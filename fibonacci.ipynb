{
 "cells": [
  {
   "cell_type": "code",
   "execution_count": 104,
   "metadata": {},
   "outputs": [],
   "source": [
    "from abc import ABC, abstractmethod\n",
    "import time\n",
    "\n",
    "class FibonacciFunc(ABC):\n",
    "    def __init__(self):\n",
    "        self.__steps = 0\n",
    "\n",
    "    @abstractmethod\n",
    "    def fib(self, n):\n",
    "        pass\n",
    "\n",
    "    def __getattribute__(self, __name):\n",
    "        original = super().__getattribute__(__name)\n",
    "        if __name in ['fib']:\n",
    "            def __wrapped(*args, **kwargs):\n",
    "                self.count_iteration()\n",
    "                return original(*args, **kwargs)\n",
    "            return __wrapped\n",
    "        return original\n",
    "\n",
    "    def count_iteration(self):\n",
    "        self.__steps += 1\n",
    "\n",
    "    def test(self, n):\n",
    "        self.__steps = 0\n",
    "        \n",
    "        assert(self.fib(0) == 0)\n",
    "        assert(self.fib(1) == 1)\n",
    "        assert(self.fib(2) == 1)\n",
    "\n",
    "        start = time.time()\n",
    "        r = self.fib(n)\n",
    "        end = time.time()\n",
    "        diff = end - start\n",
    "\n",
    "        print(f\"go fib({n})={r} in {diff * 1000 * 1000}us with {self.__steps} steps\")\n",
    "\n",
    "def test_fib(n=300):\n",
    "    def _wrapper(cls):\n",
    "        c = cls()\n",
    "        c.test(n)\n",
    "    return _wrapper"
   ]
  },
  {
   "cell_type": "code",
   "execution_count": 87,
   "metadata": {},
   "outputs": [
    {
     "name": "stdout",
     "output_type": "stream",
     "text": [
      "go fib(20)=6765 in 15032.052993774414us with 21896 steps\n"
     ]
    }
   ],
   "source": [
    "\"\"\" Naive Recursive Solution\n",
    "============================\n",
    "\n",
    "Issues:\n",
    "- Really slow\n",
    "- Recusrive limitations via depth\n",
    "\"\"\"\n",
    "\n",
    "@test_fib(20)\n",
    "class NaiveRecursiveFib(FibonacciFunc):\n",
    "    def fib(self, n):\n",
    "        if n in [0, 1]:\n",
    "            return n\n",
    "        return self.fib(n - 1) + self.fib(n - 2)"
   ]
  },
  {
   "cell_type": "code",
   "execution_count": 97,
   "metadata": {},
   "outputs": [
    {
     "name": "stdout",
     "output_type": "stream",
     "text": [
      "go fib(300)=222232244629420445529739893461909967206666939096499764990979600 in 1181.3640594482422us with 602 steps\n"
     ]
    }
   ],
   "source": [
    "\"\"\" Cached Recursive Solution\n",
    "=============================\n",
    "\n",
    "Issues:\n",
    "- Recusrive limitations via depth\n",
    "- High memory usage to to full cache table\n",
    "\"\"\"\n",
    "\n",
    "@test_fib(300)\n",
    "class CachedRecursiveFib(FibonacciFunc):\n",
    "    def fib(self, n, cache={0: 0, 1: 1}):\n",
    "        if n in cache:\n",
    "            return cache[n]\n",
    "        r = self.fib(n - 1, cache) + self.fib(n - 2, cache)\n",
    "        cache[n] = r\n",
    "        return r"
   ]
  },
  {
   "cell_type": "code",
   "execution_count": 109,
   "metadata": {},
   "outputs": [
    {
     "name": "stdout",
     "output_type": "stream",
     "text": [
      "go fib(300)=222232244629420445529739893461909967206666939096499764990979600 in 0.0us with 304 steps\n"
     ]
    }
   ],
   "source": [
    "\"\"\" Iterative Tuple Solution\n",
    "============================\n",
    "\n",
    "Issues:\n",
    "- Only one step at a time, no shortcuts\n",
    "\"\"\"\n",
    "\n",
    "@test_fib(300)\n",
    "class IterativeTupleSolution(FibonacciFunc):\n",
    "    def fib(self, n):\n",
    "        if n in [0, 1]:\n",
    "            return n\n",
    "        r = (0, 1)\n",
    "        for i in range(2, n + 1):\n",
    "            self.count_iteration()\n",
    "            r = (r[1], r[0] + r[1])\n",
    "        return r[1]"
   ]
  },
  {
   "cell_type": "code",
   "execution_count": 111,
   "metadata": {},
   "outputs": [
    {
     "name": "stdout",
     "output_type": "stream",
     "text": [
      "go fib(300)=222232244629420445529739893461909967206666939096499764990979600 in 0.0us with 20 steps\n"
     ]
    }
   ],
   "source": [
    "\"\"\" Recursive Fast Doubling Solution\n",
    "==========================\n",
    "\n",
    "This is the fastest and still a simple solution to implement.\n",
    "\n",
    "Issues:\n",
    "- Recusrive limitations via depth\n",
    "\n",
    "Improvements:\n",
    "- Uses a lot less steps\n",
    "\"\"\"\n",
    "\n",
    "@test_fib(300)\n",
    "class RecusriveFastDoublingFib(FibonacciFunc):\n",
    "    def _fib(self, n):\n",
    "        self.count_iteration()\n",
    "        if n == 0:\n",
    "            return (0, 1)\n",
    "        else:\n",
    "            a, b = self._fib(n // 2)\n",
    "            c = a * (b * 2 - a)\n",
    "            d = a * a + b * b\n",
    "            if n % 2 == 0:\n",
    "                return (c, d)\n",
    "            else:\n",
    "                return (d, c + d)\n",
    "    def fib(self, n):\n",
    "        return self._fib(n)[0]"
   ]
  }
 ],
 "metadata": {
  "language_info": {
   "name": "python"
  },
  "orig_nbformat": 4
 },
 "nbformat": 4,
 "nbformat_minor": 2
}
